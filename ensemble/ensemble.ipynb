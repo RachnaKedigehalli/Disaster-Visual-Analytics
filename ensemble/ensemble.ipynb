{
 "cells": [
  {
   "cell_type": "code",
   "execution_count": null,
   "metadata": {},
   "outputs": [],
   "source": [
    "import pandas as pd"
   ]
  },
  {
   "cell_type": "code",
   "execution_count": null,
   "metadata": {},
   "outputs": [],
   "source": [
    "data = pd.read_csv('classification_data.csv')\n",
    "data.rename(columns={'tweet_text_x': 'tweet_text'}, inplace=True)\n",
    "data.head()"
   ]
  }
 ],
 "metadata": {
  "kernelspec": {
   "display_name": "env",
   "language": "python",
   "name": "python3"
  },
  "language_info": {
   "name": "python",
   "version": "3.9.6"
  },
  "orig_nbformat": 4,
  "vscode": {
   "interpreter": {
    "hash": "a0519738933e222bc6719844d1f1b1cbdf10e70d6522c3286f03dcafbcdac7ee"
   }
  }
 },
 "nbformat": 4,
 "nbformat_minor": 2
}
