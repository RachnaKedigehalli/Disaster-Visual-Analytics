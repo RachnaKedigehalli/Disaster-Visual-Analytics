{
 "cells": [
  {
   "cell_type": "code",
   "execution_count": 8,
   "metadata": {},
   "outputs": [],
   "source": [
    "import pandas as pd\n",
    "from sklearn.feature_extraction.text import CountVectorizer\n"
   ]
  },
  {
   "cell_type": "code",
   "execution_count": 2,
   "metadata": {},
   "outputs": [],
   "source": [
    "crisismmd = \"../data/annotations/\""
   ]
  },
  {
   "cell_type": "code",
   "execution_count": 3,
   "metadata": {},
   "outputs": [],
   "source": [
    "path = crisismmd + \"california_wildfires_final_data.tsv\""
   ]
  },
  {
   "cell_type": "code",
   "execution_count": 4,
   "metadata": {},
   "outputs": [],
   "source": [
    "data = pd.read_csv(path, sep='\\t')"
   ]
  },
  {
   "cell_type": "code",
   "execution_count": 6,
   "metadata": {},
   "outputs": [],
   "source": [
    "data = data[['tweet_id', 'tweet_text', 'text_info', 'image_info', 'text_human', 'image_human']]"
   ]
  },
  {
   "cell_type": "code",
   "execution_count": 7,
   "metadata": {},
   "outputs": [
    {
     "data": {
      "text/html": [
       "<div>\n",
       "<style scoped>\n",
       "    .dataframe tbody tr th:only-of-type {\n",
       "        vertical-align: middle;\n",
       "    }\n",
       "\n",
       "    .dataframe tbody tr th {\n",
       "        vertical-align: top;\n",
       "    }\n",
       "\n",
       "    .dataframe thead th {\n",
       "        text-align: right;\n",
       "    }\n",
       "</style>\n",
       "<table border=\"1\" class=\"dataframe\">\n",
       "  <thead>\n",
       "    <tr style=\"text-align: right;\">\n",
       "      <th></th>\n",
       "      <th>tweet_id</th>\n",
       "      <th>tweet_text</th>\n",
       "      <th>text_info</th>\n",
       "      <th>image_info</th>\n",
       "      <th>text_human</th>\n",
       "      <th>image_human</th>\n",
       "    </tr>\n",
       "  </thead>\n",
       "  <tbody>\n",
       "    <tr>\n",
       "      <th>0</th>\n",
       "      <td>917791044158185473</td>\n",
       "      <td>RT @Gizmodo: Wildfires raging through Northern...</td>\n",
       "      <td>informative</td>\n",
       "      <td>informative</td>\n",
       "      <td>other_relevant_information</td>\n",
       "      <td>other_relevant_information</td>\n",
       "    </tr>\n",
       "    <tr>\n",
       "      <th>1</th>\n",
       "      <td>917791130590183424</td>\n",
       "      <td>PHOTOS: Deadly wildfires rage in California ht...</td>\n",
       "      <td>informative</td>\n",
       "      <td>informative</td>\n",
       "      <td>infrastructure_and_utility_damage</td>\n",
       "      <td>affected_individuals</td>\n",
       "    </tr>\n",
       "    <tr>\n",
       "      <th>2</th>\n",
       "      <td>917791291823591425</td>\n",
       "      <td>RT @Cal_OES: PLS SHARE: Weâ€™re capturing wild...</td>\n",
       "      <td>informative</td>\n",
       "      <td>informative</td>\n",
       "      <td>other_relevant_information</td>\n",
       "      <td>infrastructure_and_utility_damage</td>\n",
       "    </tr>\n",
       "    <tr>\n",
       "      <th>3</th>\n",
       "      <td>917791291823591425</td>\n",
       "      <td>RT @Cal_OES: PLS SHARE: Weâ€™re capturing wild...</td>\n",
       "      <td>informative</td>\n",
       "      <td>not_informative</td>\n",
       "      <td>other_relevant_information</td>\n",
       "      <td>not_relevant_or_cant_judge</td>\n",
       "    </tr>\n",
       "    <tr>\n",
       "      <th>4</th>\n",
       "      <td>917792092100988929</td>\n",
       "      <td>RT @TIME: California's raging wildfires as you...</td>\n",
       "      <td>informative</td>\n",
       "      <td>informative</td>\n",
       "      <td>other_relevant_information</td>\n",
       "      <td>infrastructure_and_utility_damage</td>\n",
       "    </tr>\n",
       "  </tbody>\n",
       "</table>\n",
       "</div>"
      ],
      "text/plain": [
       "             tweet_id                                         tweet_text  \\\n",
       "0  917791044158185473  RT @Gizmodo: Wildfires raging through Northern...   \n",
       "1  917791130590183424  PHOTOS: Deadly wildfires rage in California ht...   \n",
       "2  917791291823591425  RT @Cal_OES: PLS SHARE: Weâ€™re capturing wild...   \n",
       "3  917791291823591425  RT @Cal_OES: PLS SHARE: Weâ€™re capturing wild...   \n",
       "4  917792092100988929  RT @TIME: California's raging wildfires as you...   \n",
       "\n",
       "     text_info       image_info                         text_human  \\\n",
       "0  informative      informative         other_relevant_information   \n",
       "1  informative      informative  infrastructure_and_utility_damage   \n",
       "2  informative      informative         other_relevant_information   \n",
       "3  informative  not_informative         other_relevant_information   \n",
       "4  informative      informative         other_relevant_information   \n",
       "\n",
       "                         image_human  \n",
       "0         other_relevant_information  \n",
       "1               affected_individuals  \n",
       "2  infrastructure_and_utility_damage  \n",
       "3         not_relevant_or_cant_judge  \n",
       "4  infrastructure_and_utility_damage  "
      ]
     },
     "execution_count": 7,
     "metadata": {},
     "output_type": "execute_result"
    }
   ],
   "source": [
    "data.head()"
   ]
  },
  {
   "cell_type": "code",
   "execution_count": 9,
   "metadata": {},
   "outputs": [],
   "source": [
    "vectorizer = CountVectorizer()\n",
    "X = vectorizer.fit_transform(data['tweet_text']).toarray()\n",
    "X"
   ]
  },
  {
   "cell_type": "code",
   "execution_count": 11,
   "metadata": {},
   "outputs": [],
   "source": [
    "from scipy.spatial.distance import cdist\n",
    "import numpy as np\n",
    "\n",
    "class ClusterSimilarityMatrix():\n",
    "    \n",
    "    def __init__(self) -> None:\n",
    "        self._is_fitted = False\n",
    "\n",
    "    def fit(self, y_clusters):\n",
    "        if not self._is_fitted:\n",
    "            self._is_fitted = True\n",
    "            self.similarity = self.to_binary_matrix(y_clusters)\n",
    "            return self\n",
    "\n",
    "        self.similarity += self.to_binary_matrix(y_clusters)\n",
    "\n",
    "    def to_binary_matrix(self, y_clusters):\n",
    "        y_reshaped = np.expand_dims(y_clusters, axis=-1)\n",
    "        return (cdist(y_reshaped, y_reshaped, 'cityblock')==0).astype(int)\n",
    "\n",
    "\n",
    "class EnsembleCustering():\n",
    "    def __init__(self, base_estimators, aggregator, distances=False):\n",
    "        self.base_estimators = base_estimators\n",
    "        self.aggregator = aggregator\n",
    "        self.distances = distances\n",
    "\n",
    "    def fit(self, X):\n",
    "        X_ = X.copy()\n",
    "\n",
    "        clt_sim_matrix = ClusterSimilarityMatrix()\n",
    "        for model in self.base_estimators:\n",
    "            clt_sim_matrix.fit(model.fit_predict(X=X_))\n",
    "        \n",
    "        sim_matrix = clt_sim_matrix.similarity\n",
    "        self.cluster_matrix = sim_matrix/sim_matrix.diagonal()\n",
    "\n",
    "        if self.distances:\n",
    "            self.cluster_matrix = np.abs(np.log(self.cluster_matrix + 1e-8)) # Avoid log(0)\n",
    "\n",
    "    def fit_predict(self, X):\n",
    "        self.fit(X)\n",
    "        y = self.aggregator.fit_predict(self.cluster_matrix)\n",
    "        return y"
   ]
  },
  {
   "cell_type": "code",
   "execution_count": 12,
   "metadata": {},
   "outputs": [],
   "source": [
    "from sklearn.cluster import KMeans\n",
    "from sklearn.cluster import Birch\n",
    "from sklearn.cluster import AgglomerativeClustering\n",
    "from sklearn.cluster import MeanShift\n",
    "from sklearn.cluster import SpectralClustering"
   ]
  },
  {
   "cell_type": "code",
   "execution_count": 19,
   "metadata": {},
   "outputs": [],
   "source": [
    "target_label = 'text_human'\n",
    "clustering_models = []"
   ]
  },
  {
   "cell_type": "code",
   "execution_count": 20,
   "metadata": {},
   "outputs": [
    {
     "data": {
      "text/plain": [
       "9"
      ]
     },
     "execution_count": 20,
     "metadata": {},
     "output_type": "execute_result"
    }
   ],
   "source": [
    "num_clusters = len(data[target_label].unique())\n",
    "num_clusters"
   ]
  },
  {
   "cell_type": "code",
   "execution_count": 21,
   "metadata": {},
   "outputs": [],
   "source": [
    "clustering_models.append(KMeans(n_clusters=2*num_clusters))"
   ]
  },
  {
   "cell_type": "code",
   "execution_count": 22,
   "metadata": {},
   "outputs": [],
   "source": [
    "clustering_models.append(Birch(n_clusters=2*num_clusters))"
   ]
  },
  {
   "cell_type": "code",
   "execution_count": 23,
   "metadata": {},
   "outputs": [],
   "source": [
    "clustering_models.append(AgglomerativeClustering(n_clusters=2*num_clusters))"
   ]
  },
  {
   "cell_type": "code",
   "execution_count": 24,
   "metadata": {},
   "outputs": [],
   "source": [
    "aggregator_clt = SpectralClustering(n_clusters=num_clusters, affinity=\"precomputed\")"
   ]
  },
  {
   "cell_type": "code",
   "execution_count": 25,
   "metadata": {},
   "outputs": [],
   "source": [
    "ens_clt=EnsembleCustering(clustering_models, aggregator_clt)"
   ]
  },
  {
   "cell_type": "code",
   "execution_count": 26,
   "metadata": {},
   "outputs": [
    {
     "name": "stderr",
     "output_type": "stream",
     "text": [
      "/home/rachna/.local/lib/python3.8/site-packages/sklearn/cluster/_kmeans.py:870: FutureWarning: The default value of `n_init` will change from 10 to 'auto' in 1.4. Set the value of `n_init` explicitly to suppress the warning\n",
      "  warnings.warn(\n"
     ]
    }
   ],
   "source": [
    "y_ensemble = ens_clt.fit_predict(X)"
   ]
  },
  {
   "cell_type": "code",
   "execution_count": 28,
   "metadata": {},
   "outputs": [
    {
     "data": {
      "text/plain": [
       "(array([0, 1, 2, 3, 4, 5, 6, 7, 8], dtype=int32),\n",
       " array([225,  49, 311, 190, 120, 464,  73, 113,  44]))"
      ]
     },
     "execution_count": 28,
     "metadata": {},
     "output_type": "execute_result"
    }
   ],
   "source": [
    "np.unique(y_ensemble, return_counts=True)"
   ]
  },
  {
   "cell_type": "code",
   "execution_count": 29,
   "metadata": {},
   "outputs": [
    {
     "data": {
      "text/plain": [
       "other_relevant_information                683\n",
       "rescue_volunteering_or_donation_effort    195\n",
       "infrastructure_and_utility_damage         166\n",
       "injured_or_dead_people                    108\n",
       "affected_individuals                       83\n",
       "not_relevant_or_cant_judge                 62\n",
       "missing_or_found_people                     8\n",
       "vehicle_damage                              2\n",
       "Name: text_human, dtype: int64"
      ]
     },
     "execution_count": 29,
     "metadata": {},
     "output_type": "execute_result"
    }
   ],
   "source": [
    "data[target_label].value_counts()"
   ]
  },
  {
   "cell_type": "code",
   "execution_count": null,
   "metadata": {},
   "outputs": [],
   "source": []
  }
 ],
 "metadata": {
  "kernelspec": {
   "display_name": "Python 3",
   "language": "python",
   "name": "python3"
  },
  "language_info": {
   "codemirror_mode": {
    "name": "ipython",
    "version": 3
   },
   "file_extension": ".py",
   "mimetype": "text/x-python",
   "name": "python",
   "nbconvert_exporter": "python",
   "pygments_lexer": "ipython3",
   "version": "3.8.10"
  },
  "orig_nbformat": 4,
  "vscode": {
   "interpreter": {
    "hash": "916dbcbb3f70747c44a77c7bcd40155683ae19c65e1c03b4aa3499c5328201f1"
   }
  }
 },
 "nbformat": 4,
 "nbformat_minor": 2
}
