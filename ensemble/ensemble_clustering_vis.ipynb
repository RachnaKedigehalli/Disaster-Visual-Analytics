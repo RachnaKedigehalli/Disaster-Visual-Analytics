{
 "cells": [
  {
   "cell_type": "code",
   "execution_count": 21,
   "metadata": {},
   "outputs": [],
   "source": [
    "import pandas as pd\n",
    "from sklearn.model_selection import train_test_split\n",
    "from sklearn.feature_extraction.text import CountVectorizer\n",
    "from sklearn.linear_model import LogisticRegression\n",
    "from sklearn.ensemble import RandomForestClassifier\n",
    "from sklearn.tree import DecisionTreeClassifier\n",
    "from sklearn.svm import SVC\n",
    "from sklearn import metrics\n",
    "from sklearn.ensemble import VotingClassifier"
   ]
  },
  {
   "cell_type": "code",
   "execution_count": 22,
   "metadata": {},
   "outputs": [
    {
     "data": {
      "text/html": [
       "<div>\n",
       "<style scoped>\n",
       "    .dataframe tbody tr th:only-of-type {\n",
       "        vertical-align: middle;\n",
       "    }\n",
       "\n",
       "    .dataframe tbody tr th {\n",
       "        vertical-align: top;\n",
       "    }\n",
       "\n",
       "    .dataframe thead th {\n",
       "        text-align: right;\n",
       "    }\n",
       "</style>\n",
       "<table border=\"1\" class=\"dataframe\">\n",
       "  <thead>\n",
       "    <tr style=\"text-align: right;\">\n",
       "      <th></th>\n",
       "      <th>tweet_id</th>\n",
       "      <th>tweet_text</th>\n",
       "      <th>text_info</th>\n",
       "    </tr>\n",
       "  </thead>\n",
       "  <tbody>\n",
       "    <tr>\n",
       "      <th>0</th>\n",
       "      <td>917791130590183424</td>\n",
       "      <td>PHOTOS: Deadly wildfires rage in California ht...</td>\n",
       "      <td>informative</td>\n",
       "    </tr>\n",
       "    <tr>\n",
       "      <th>1</th>\n",
       "      <td>917791044158185473</td>\n",
       "      <td>RT @Gizmodo: Wildfires raging through Northern...</td>\n",
       "      <td>informative</td>\n",
       "    </tr>\n",
       "    <tr>\n",
       "      <th>2</th>\n",
       "      <td>917791291823591425</td>\n",
       "      <td>RT @Cal_OES: PLS SHARE: We’re capturing wildfi...</td>\n",
       "      <td>informative</td>\n",
       "    </tr>\n",
       "    <tr>\n",
       "      <th>3</th>\n",
       "      <td>917791291823591425</td>\n",
       "      <td>RT @Cal_OES: PLS SHARE: We’re capturing wildfi...</td>\n",
       "      <td>informative</td>\n",
       "    </tr>\n",
       "    <tr>\n",
       "      <th>4</th>\n",
       "      <td>917792092100988929</td>\n",
       "      <td>RT @TIME: California's raging wildfires as you...</td>\n",
       "      <td>informative</td>\n",
       "    </tr>\n",
       "  </tbody>\n",
       "</table>\n",
       "</div>"
      ],
      "text/plain": [
       "             tweet_id                                         tweet_text  \\\n",
       "0  917791130590183424  PHOTOS: Deadly wildfires rage in California ht...   \n",
       "1  917791044158185473  RT @Gizmodo: Wildfires raging through Northern...   \n",
       "2  917791291823591425  RT @Cal_OES: PLS SHARE: We’re capturing wildfi...   \n",
       "3  917791291823591425  RT @Cal_OES: PLS SHARE: We’re capturing wildfi...   \n",
       "4  917792092100988929  RT @TIME: California's raging wildfires as you...   \n",
       "\n",
       "     text_info  \n",
       "0  informative  \n",
       "1  informative  \n",
       "2  informative  \n",
       "3  informative  \n",
       "4  informative  "
      ]
     },
     "execution_count": 22,
     "metadata": {},
     "output_type": "execute_result"
    }
   ],
   "source": [
    "data = pd.read_csv('classification_data.csv')\n",
    "data.rename(columns={'tweet_text_x': 'tweet_text'}, inplace=True)\n",
    "data.head()"
   ]
  },
  {
   "cell_type": "code",
   "execution_count": 23,
   "metadata": {},
   "outputs": [],
   "source": [
    "data = data.dropna(axis=0)"
   ]
  },
  {
   "cell_type": "code",
   "execution_count": 24,
   "metadata": {},
   "outputs": [],
   "source": [
    "data['text_info'] = data['text_info'].apply(lambda x: 1 if (x == \"informative\")  else 0)"
   ]
  },
  {
   "cell_type": "code",
   "execution_count": 25,
   "metadata": {},
   "outputs": [
    {
     "data": {
      "text/html": [
       "<div>\n",
       "<style scoped>\n",
       "    .dataframe tbody tr th:only-of-type {\n",
       "        vertical-align: middle;\n",
       "    }\n",
       "\n",
       "    .dataframe tbody tr th {\n",
       "        vertical-align: top;\n",
       "    }\n",
       "\n",
       "    .dataframe thead th {\n",
       "        text-align: right;\n",
       "    }\n",
       "</style>\n",
       "<table border=\"1\" class=\"dataframe\">\n",
       "  <thead>\n",
       "    <tr style=\"text-align: right;\">\n",
       "      <th></th>\n",
       "      <th>tweet_id</th>\n",
       "      <th>tweet_text</th>\n",
       "      <th>text_info</th>\n",
       "    </tr>\n",
       "  </thead>\n",
       "  <tbody>\n",
       "    <tr>\n",
       "      <th>0</th>\n",
       "      <td>917791130590183424</td>\n",
       "      <td>PHOTOS: Deadly wildfires rage in California ht...</td>\n",
       "      <td>1</td>\n",
       "    </tr>\n",
       "    <tr>\n",
       "      <th>1</th>\n",
       "      <td>917791044158185473</td>\n",
       "      <td>RT @Gizmodo: Wildfires raging through Northern...</td>\n",
       "      <td>1</td>\n",
       "    </tr>\n",
       "    <tr>\n",
       "      <th>2</th>\n",
       "      <td>917791291823591425</td>\n",
       "      <td>RT @Cal_OES: PLS SHARE: We’re capturing wildfi...</td>\n",
       "      <td>1</td>\n",
       "    </tr>\n",
       "    <tr>\n",
       "      <th>3</th>\n",
       "      <td>917791291823591425</td>\n",
       "      <td>RT @Cal_OES: PLS SHARE: We’re capturing wildfi...</td>\n",
       "      <td>1</td>\n",
       "    </tr>\n",
       "    <tr>\n",
       "      <th>4</th>\n",
       "      <td>917792092100988929</td>\n",
       "      <td>RT @TIME: California's raging wildfires as you...</td>\n",
       "      <td>1</td>\n",
       "    </tr>\n",
       "  </tbody>\n",
       "</table>\n",
       "</div>"
      ],
      "text/plain": [
       "             tweet_id                                         tweet_text  \\\n",
       "0  917791130590183424  PHOTOS: Deadly wildfires rage in California ht...   \n",
       "1  917791044158185473  RT @Gizmodo: Wildfires raging through Northern...   \n",
       "2  917791291823591425  RT @Cal_OES: PLS SHARE: We’re capturing wildfi...   \n",
       "3  917791291823591425  RT @Cal_OES: PLS SHARE: We’re capturing wildfi...   \n",
       "4  917792092100988929  RT @TIME: California's raging wildfires as you...   \n",
       "\n",
       "   text_info  \n",
       "0          1  \n",
       "1          1  \n",
       "2          1  \n",
       "3          1  \n",
       "4          1  "
      ]
     },
     "execution_count": 25,
     "metadata": {},
     "output_type": "execute_result"
    }
   ],
   "source": [
    "data.head()"
   ]
  },
  {
   "cell_type": "code",
   "execution_count": 26,
   "metadata": {},
   "outputs": [],
   "source": [
    "vectorizer = CountVectorizer()"
   ]
  },
  {
   "cell_type": "code",
   "execution_count": 27,
   "metadata": {},
   "outputs": [],
   "source": [
    "X = vectorizer.fit_transform(data['tweet_text']).toarray()"
   ]
  },
  {
   "cell_type": "code",
   "execution_count": 28,
   "metadata": {},
   "outputs": [
    {
     "data": {
      "text/plain": [
       "array([[0, 0, 0, ..., 0, 0, 0],\n",
       "       [0, 0, 0, ..., 0, 0, 0],\n",
       "       [0, 0, 0, ..., 0, 0, 0],\n",
       "       ...,\n",
       "       [0, 0, 0, ..., 0, 0, 0],\n",
       "       [0, 0, 0, ..., 0, 0, 0],\n",
       "       [0, 0, 0, ..., 0, 0, 0]])"
      ]
     },
     "execution_count": 28,
     "metadata": {},
     "output_type": "execute_result"
    }
   ],
   "source": [
    "X"
   ]
  },
  {
   "cell_type": "code",
   "execution_count": 29,
   "metadata": {},
   "outputs": [],
   "source": [
    "from scipy.spatial.distance import cdist\n",
    "import numpy as np\n",
    "\n",
    "class ClusterSimilarityMatrix():\n",
    "    \n",
    "    def __init__(self) -> None:\n",
    "        self._is_fitted = False\n",
    "\n",
    "    def fit(self, y_clusters):\n",
    "        if not self._is_fitted:\n",
    "            self._is_fitted = True\n",
    "            self.similarity = self.to_binary_matrix(y_clusters)\n",
    "            return self\n",
    "\n",
    "        self.similarity += self.to_binary_matrix(y_clusters)\n",
    "\n",
    "    def to_binary_matrix(self, y_clusters):\n",
    "        y_reshaped = np.expand_dims(y_clusters, axis=-1)\n",
    "        return (cdist(y_reshaped, y_reshaped, 'cityblock')==0).astype(int)\n",
    "\n",
    "\n",
    "class EnsembleCustering():\n",
    "    def __init__(self, base_estimators, aggregator, distances=False):\n",
    "        self.base_estimators = base_estimators\n",
    "        self.aggregator = aggregator\n",
    "        self.distances = distances\n",
    "\n",
    "    def fit(self, X):\n",
    "        X_ = X.copy()\n",
    "\n",
    "        clt_sim_matrix = ClusterSimilarityMatrix()\n",
    "        for model in self.base_estimators:\n",
    "            clt_sim_matrix.fit(model.fit_predict(X=X_))\n",
    "        \n",
    "        sim_matrix = clt_sim_matrix.similarity\n",
    "        self.cluster_matrix = sim_matrix/sim_matrix.diagonal()\n",
    "\n",
    "        if self.distances:\n",
    "            self.cluster_matrix = np.abs(np.log(self.cluster_matrix + 1e-8)) # Avoid log(0)\n",
    "\n",
    "    def fit_predict(self, X):\n",
    "        self.fit(X)\n",
    "        y = self.aggregator.fit_predict(self.cluster_matrix)\n",
    "        return y"
   ]
  },
  {
   "cell_type": "code",
   "execution_count": 30,
   "metadata": {},
   "outputs": [],
   "source": [
    "clustering_models = []"
   ]
  },
  {
   "cell_type": "code",
   "execution_count": 31,
   "metadata": {},
   "outputs": [],
   "source": [
    "from sklearn.cluster import KMeans\n",
    "from sklearn.cluster import Birch\n",
    "from sklearn.cluster import AgglomerativeClustering\n",
    "from sklearn.cluster import MeanShift\n",
    "from sklearn.cluster import SpectralClustering"
   ]
  },
  {
   "cell_type": "code",
   "execution_count": 32,
   "metadata": {},
   "outputs": [],
   "source": [
    "num_clusters = 2"
   ]
  },
  {
   "cell_type": "code",
   "execution_count": 33,
   "metadata": {},
   "outputs": [],
   "source": [
    "clustering_models.append(KMeans(n_clusters=num_clusters))"
   ]
  },
  {
   "cell_type": "code",
   "execution_count": 34,
   "metadata": {},
   "outputs": [],
   "source": [
    "clustering_models.append(Birch(n_clusters=num_clusters))"
   ]
  },
  {
   "cell_type": "code",
   "execution_count": 35,
   "metadata": {},
   "outputs": [],
   "source": [
    "clustering_models.append(AgglomerativeClustering(n_clusters=num_clusters))"
   ]
  },
  {
   "cell_type": "code",
   "execution_count": 36,
   "metadata": {},
   "outputs": [],
   "source": [
    "# clustering_models.append(MeanShift())"
   ]
  },
  {
   "cell_type": "code",
   "execution_count": null,
   "metadata": {},
   "outputs": [],
   "source": [
    "aggregator_clt = SpectralClustering(n_clusters=2, affinity=\"precomputed\")"
   ]
  },
  {
   "cell_type": "code",
   "execution_count": null,
   "metadata": {},
   "outputs": [],
   "source": [
    "ens_clt=EnsembleCustering(clustering_models, aggregator_clt)"
   ]
  },
  {
   "cell_type": "code",
   "execution_count": 20,
   "metadata": {},
   "outputs": [
    {
     "ename": "KeyboardInterrupt",
     "evalue": "",
     "output_type": "error",
     "traceback": [
      "\u001b[0;31m---------------------------------------------------------------------------\u001b[0m",
      "\u001b[0;31mKeyboardInterrupt\u001b[0m                         Traceback (most recent call last)",
      "Cell \u001b[0;32mIn[20], line 1\u001b[0m\n\u001b[0;32m----> 1\u001b[0m y_ensemble \u001b[39m=\u001b[39m ens_clt\u001b[39m.\u001b[39;49mfit_predict(X)\n",
      "Cell \u001b[0;32mIn[10], line 42\u001b[0m, in \u001b[0;36mEnsembleCustering.fit_predict\u001b[0;34m(self, X)\u001b[0m\n\u001b[1;32m     41\u001b[0m \u001b[39mdef\u001b[39;00m \u001b[39mfit_predict\u001b[39m(\u001b[39mself\u001b[39m, X):\n\u001b[0;32m---> 42\u001b[0m     \u001b[39mself\u001b[39;49m\u001b[39m.\u001b[39;49mfit(X)\n\u001b[1;32m     43\u001b[0m     y \u001b[39m=\u001b[39m \u001b[39mself\u001b[39m\u001b[39m.\u001b[39maggregator\u001b[39m.\u001b[39mfit_predict(\u001b[39mself\u001b[39m\u001b[39m.\u001b[39mcluster_matrix)\n\u001b[1;32m     44\u001b[0m     \u001b[39mreturn\u001b[39;00m y\n",
      "Cell \u001b[0;32mIn[10], line 33\u001b[0m, in \u001b[0;36mEnsembleCustering.fit\u001b[0;34m(self, X)\u001b[0m\n\u001b[1;32m     31\u001b[0m clt_sim_matrix \u001b[39m=\u001b[39m ClusterSimilarityMatrix()\n\u001b[1;32m     32\u001b[0m \u001b[39mfor\u001b[39;00m model \u001b[39min\u001b[39;00m \u001b[39mself\u001b[39m\u001b[39m.\u001b[39mbase_estimators:\n\u001b[0;32m---> 33\u001b[0m     clt_sim_matrix\u001b[39m.\u001b[39mfit(model\u001b[39m.\u001b[39;49mfit_predict(X\u001b[39m=\u001b[39;49mX_))\n\u001b[1;32m     35\u001b[0m sim_matrix \u001b[39m=\u001b[39m clt_sim_matrix\u001b[39m.\u001b[39msimilarity\n\u001b[1;32m     36\u001b[0m \u001b[39mself\u001b[39m\u001b[39m.\u001b[39mcluster_matrix \u001b[39m=\u001b[39m sim_matrix\u001b[39m/\u001b[39msim_matrix\u001b[39m.\u001b[39mdiagonal()\n",
      "File \u001b[0;32m~/DataDrive/Academics/PE/mlenv/lib/python3.11/site-packages/sklearn/base.py:734\u001b[0m, in \u001b[0;36mClusterMixin.fit_predict\u001b[0;34m(self, X, y)\u001b[0m\n\u001b[1;32m    716\u001b[0m \u001b[39m\u001b[39m\u001b[39m\"\"\"\u001b[39;00m\n\u001b[1;32m    717\u001b[0m \u001b[39mPerform clustering on `X` and returns cluster labels.\u001b[39;00m\n\u001b[1;32m    718\u001b[0m \n\u001b[0;32m   (...)\u001b[0m\n\u001b[1;32m    730\u001b[0m \u001b[39m    Cluster labels.\u001b[39;00m\n\u001b[1;32m    731\u001b[0m \u001b[39m\"\"\"\u001b[39;00m\n\u001b[1;32m    732\u001b[0m \u001b[39m# non-optimized default implementation; override when a better\u001b[39;00m\n\u001b[1;32m    733\u001b[0m \u001b[39m# method is possible for a given clustering algorithm\u001b[39;00m\n\u001b[0;32m--> 734\u001b[0m \u001b[39mself\u001b[39;49m\u001b[39m.\u001b[39;49mfit(X)\n\u001b[1;32m    735\u001b[0m \u001b[39mreturn\u001b[39;00m \u001b[39mself\u001b[39m\u001b[39m.\u001b[39mlabels_\n",
      "File \u001b[0;32m~/DataDrive/Academics/PE/mlenv/lib/python3.11/site-packages/sklearn/cluster/_birch.py:524\u001b[0m, in \u001b[0;36mBirch.fit\u001b[0;34m(self, X, y)\u001b[0m\n\u001b[1;32m    505\u001b[0m \u001b[39m\u001b[39m\u001b[39m\"\"\"\u001b[39;00m\n\u001b[1;32m    506\u001b[0m \u001b[39mBuild a CF Tree for the input data.\u001b[39;00m\n\u001b[1;32m    507\u001b[0m \n\u001b[0;32m   (...)\u001b[0m\n\u001b[1;32m    519\u001b[0m \u001b[39m    Fitted estimator.\u001b[39;00m\n\u001b[1;32m    520\u001b[0m \u001b[39m\"\"\"\u001b[39;00m\n\u001b[1;32m    522\u001b[0m \u001b[39mself\u001b[39m\u001b[39m.\u001b[39m_validate_params()\n\u001b[0;32m--> 524\u001b[0m \u001b[39mreturn\u001b[39;00m \u001b[39mself\u001b[39;49m\u001b[39m.\u001b[39;49m_fit(X, partial\u001b[39m=\u001b[39;49m\u001b[39mFalse\u001b[39;49;00m)\n",
      "File \u001b[0;32m~/DataDrive/Academics/PE/mlenv/lib/python3.11/site-packages/sklearn/cluster/_birch.py:573\u001b[0m, in \u001b[0;36mBirch._fit\u001b[0;34m(self, X, partial)\u001b[0m\n\u001b[1;32m    571\u001b[0m \u001b[39mfor\u001b[39;00m sample \u001b[39min\u001b[39;00m iter_func(X):\n\u001b[1;32m    572\u001b[0m     subcluster \u001b[39m=\u001b[39m _CFSubcluster(linear_sum\u001b[39m=\u001b[39msample)\n\u001b[0;32m--> 573\u001b[0m     split \u001b[39m=\u001b[39m \u001b[39mself\u001b[39;49m\u001b[39m.\u001b[39;49mroot_\u001b[39m.\u001b[39;49minsert_cf_subcluster(subcluster)\n\u001b[1;32m    575\u001b[0m     \u001b[39mif\u001b[39;00m split:\n\u001b[1;32m    576\u001b[0m         new_subcluster1, new_subcluster2 \u001b[39m=\u001b[39m _split_node(\n\u001b[1;32m    577\u001b[0m             \u001b[39mself\u001b[39m\u001b[39m.\u001b[39mroot_, threshold, branching_factor\n\u001b[1;32m    578\u001b[0m         )\n",
      "File \u001b[0;32m~/DataDrive/Academics/PE/mlenv/lib/python3.11/site-packages/sklearn/cluster/_birch.py:212\u001b[0m, in \u001b[0;36m_CFNode.insert_cf_subcluster\u001b[0;34m(self, subcluster)\u001b[0m\n\u001b[1;32m    210\u001b[0m \u001b[39m# If the subcluster has a child, we need a recursive strategy.\u001b[39;00m\n\u001b[1;32m    211\u001b[0m \u001b[39mif\u001b[39;00m closest_subcluster\u001b[39m.\u001b[39mchild_ \u001b[39mis\u001b[39;00m \u001b[39mnot\u001b[39;00m \u001b[39mNone\u001b[39;00m:\n\u001b[0;32m--> 212\u001b[0m     split_child \u001b[39m=\u001b[39m closest_subcluster\u001b[39m.\u001b[39;49mchild_\u001b[39m.\u001b[39;49minsert_cf_subcluster(subcluster)\n\u001b[1;32m    214\u001b[0m     \u001b[39mif\u001b[39;00m \u001b[39mnot\u001b[39;00m split_child:\n\u001b[1;32m    215\u001b[0m         \u001b[39m# If it is determined that the child need not be split, we\u001b[39;00m\n\u001b[1;32m    216\u001b[0m         \u001b[39m# can just update the closest_subcluster\u001b[39;00m\n\u001b[1;32m    217\u001b[0m         closest_subcluster\u001b[39m.\u001b[39mupdate(subcluster)\n",
      "File \u001b[0;32m~/DataDrive/Academics/PE/mlenv/lib/python3.11/site-packages/sklearn/cluster/_birch.py:204\u001b[0m, in \u001b[0;36m_CFNode.insert_cf_subcluster\u001b[0;34m(self, subcluster)\u001b[0m\n\u001b[1;32m    201\u001b[0m branching_factor \u001b[39m=\u001b[39m \u001b[39mself\u001b[39m\u001b[39m.\u001b[39mbranching_factor\n\u001b[1;32m    202\u001b[0m \u001b[39m# We need to find the closest subcluster among all the\u001b[39;00m\n\u001b[1;32m    203\u001b[0m \u001b[39m# subclusters so that we can insert our new subcluster.\u001b[39;00m\n\u001b[0;32m--> 204\u001b[0m dist_matrix \u001b[39m=\u001b[39m np\u001b[39m.\u001b[39;49mdot(\u001b[39mself\u001b[39;49m\u001b[39m.\u001b[39;49mcentroids_, subcluster\u001b[39m.\u001b[39;49mcentroid_)\n\u001b[1;32m    205\u001b[0m dist_matrix \u001b[39m*\u001b[39m\u001b[39m=\u001b[39m \u001b[39m-\u001b[39m\u001b[39m2.0\u001b[39m\n\u001b[1;32m    206\u001b[0m dist_matrix \u001b[39m+\u001b[39m\u001b[39m=\u001b[39m \u001b[39mself\u001b[39m\u001b[39m.\u001b[39msquared_norm_\n",
      "File \u001b[0;32m<__array_function__ internals>:200\u001b[0m, in \u001b[0;36mdot\u001b[0;34m(*args, **kwargs)\u001b[0m\n",
      "\u001b[0;31mKeyboardInterrupt\u001b[0m: "
     ]
    }
   ],
   "source": [
    "y_ensemble = ens_clt.fit_predict(X)"
   ]
  },
  {
   "cell_type": "code",
   "execution_count": null,
   "metadata": {},
   "outputs": [],
   "source": [
    "np.unique(y_ensemble, return_counts=True)"
   ]
  },
  {
   "cell_type": "code",
   "execution_count": null,
   "metadata": {},
   "outputs": [],
   "source": [
    "data['text_info'].value_counts()"
   ]
  },
  {
   "cell_type": "code",
   "execution_count": null,
   "metadata": {},
   "outputs": [],
   "source": []
  },
  {
   "cell_type": "code",
   "execution_count": null,
   "metadata": {},
   "outputs": [],
   "source": []
  },
  {
   "cell_type": "code",
   "execution_count": null,
   "metadata": {},
   "outputs": [],
   "source": [
    "pred = ensemble.predict(vectorizer.transform(X_test).toarray())\n",
    "accuracy = metrics.accuracy_score(y_test, pred)\n",
    "precisions, recall, f1_score, _ = metrics.precision_recall_fscore_support(y_test, pred)\n",
    "   "
   ]
  },
  {
   "cell_type": "code",
   "execution_count": null,
   "metadata": {},
   "outputs": [],
   "source": [
    "accuracy"
   ]
  },
  {
   "cell_type": "code",
   "execution_count": null,
   "metadata": {},
   "outputs": [],
   "source": [
    "precisions, recall"
   ]
  },
  {
   "cell_type": "code",
   "execution_count": null,
   "metadata": {},
   "outputs": [],
   "source": [
    "f1_score"
   ]
  },
  {
   "cell_type": "code",
   "execution_count": null,
   "metadata": {},
   "outputs": [],
   "source": [
    "clf = LogisticRegression()\n",
    "# clf = RandomForestClassifier(n_estimators=500, max_features=0.25, criterion=\"entropy\", class_weight=\"balanced\")\n",
    "# clf = DecisionTreeClassifier()\n",
    "# clf = SVC()\n",
    "clf.fit(X, y_train)"
   ]
  },
  {
   "cell_type": "code",
   "execution_count": null,
   "metadata": {},
   "outputs": [],
   "source": [
    "lgr_pred = clf.predict(vectorizer.transform(X_test).toarray())\n",
    "metrics.accuracy_score(y_test, lgr_pred)"
   ]
  },
  {
   "attachments": {},
   "cell_type": "markdown",
   "metadata": {},
   "source": [
    "## Vis"
   ]
  },
  {
   "cell_type": "code",
   "execution_count": 47,
   "metadata": {},
   "outputs": [
    {
     "data": {
      "text/html": [
       "<div>\n",
       "<style scoped>\n",
       "    .dataframe tbody tr th:only-of-type {\n",
       "        vertical-align: middle;\n",
       "    }\n",
       "\n",
       "    .dataframe tbody tr th {\n",
       "        vertical-align: top;\n",
       "    }\n",
       "\n",
       "    .dataframe thead th {\n",
       "        text-align: right;\n",
       "    }\n",
       "</style>\n",
       "<table border=\"1\" class=\"dataframe\">\n",
       "  <thead>\n",
       "    <tr style=\"text-align: right;\">\n",
       "      <th></th>\n",
       "      <th>tweet_id</th>\n",
       "      <th>tweet_text</th>\n",
       "      <th>text_info</th>\n",
       "    </tr>\n",
       "  </thead>\n",
       "  <tbody>\n",
       "    <tr>\n",
       "      <th>0</th>\n",
       "      <td>917791130590183424</td>\n",
       "      <td>PHOTOS: Deadly wildfires rage in California ht...</td>\n",
       "      <td>1</td>\n",
       "    </tr>\n",
       "    <tr>\n",
       "      <th>1</th>\n",
       "      <td>917791044158185473</td>\n",
       "      <td>RT @Gizmodo: Wildfires raging through Northern...</td>\n",
       "      <td>1</td>\n",
       "    </tr>\n",
       "    <tr>\n",
       "      <th>2</th>\n",
       "      <td>917791291823591425</td>\n",
       "      <td>RT @Cal_OES: PLS SHARE: We’re capturing wildfi...</td>\n",
       "      <td>1</td>\n",
       "    </tr>\n",
       "    <tr>\n",
       "      <th>3</th>\n",
       "      <td>917791291823591425</td>\n",
       "      <td>RT @Cal_OES: PLS SHARE: We’re capturing wildfi...</td>\n",
       "      <td>1</td>\n",
       "    </tr>\n",
       "    <tr>\n",
       "      <th>4</th>\n",
       "      <td>917792092100988929</td>\n",
       "      <td>RT @TIME: California's raging wildfires as you...</td>\n",
       "      <td>1</td>\n",
       "    </tr>\n",
       "    <tr>\n",
       "      <th>...</th>\n",
       "      <td>...</td>\n",
       "      <td>...</td>\n",
       "      <td>...</td>\n",
       "    </tr>\n",
       "    <tr>\n",
       "      <th>1585</th>\n",
       "      <td>923761170967797761</td>\n",
       "      <td>GOP targets environmental rules after Californ...</td>\n",
       "      <td>1</td>\n",
       "    </tr>\n",
       "    <tr>\n",
       "      <th>1586</th>\n",
       "      <td>923796193670336512</td>\n",
       "      <td>Motorcycle crash sparked 350-acre fire in Clev...</td>\n",
       "      <td>1</td>\n",
       "    </tr>\n",
       "    <tr>\n",
       "      <th>1587</th>\n",
       "      <td>923821955568013313</td>\n",
       "      <td>Carl’s Jr. #SantaRosa catches #Fire while maki...</td>\n",
       "      <td>0</td>\n",
       "    </tr>\n",
       "    <tr>\n",
       "      <th>1588</th>\n",
       "      <td>923844053426348032</td>\n",
       "      <td>Inside the List: The Romance Writer Who Almost...</td>\n",
       "      <td>1</td>\n",
       "    </tr>\n",
       "    <tr>\n",
       "      <th>1589</th>\n",
       "      <td>923879231175630848</td>\n",
       "      <td>How long will heat, wildfire threat persist in...</td>\n",
       "      <td>0</td>\n",
       "    </tr>\n",
       "  </tbody>\n",
       "</table>\n",
       "<p>1588 rows × 3 columns</p>\n",
       "</div>"
      ],
      "text/plain": [
       "                tweet_id                                         tweet_text  \\\n",
       "0     917791130590183424  PHOTOS: Deadly wildfires rage in California ht...   \n",
       "1     917791044158185473  RT @Gizmodo: Wildfires raging through Northern...   \n",
       "2     917791291823591425  RT @Cal_OES: PLS SHARE: We’re capturing wildfi...   \n",
       "3     917791291823591425  RT @Cal_OES: PLS SHARE: We’re capturing wildfi...   \n",
       "4     917792092100988929  RT @TIME: California's raging wildfires as you...   \n",
       "...                  ...                                                ...   \n",
       "1585  923761170967797761  GOP targets environmental rules after Californ...   \n",
       "1586  923796193670336512  Motorcycle crash sparked 350-acre fire in Clev...   \n",
       "1587  923821955568013313  Carl’s Jr. #SantaRosa catches #Fire while maki...   \n",
       "1588  923844053426348032  Inside the List: The Romance Writer Who Almost...   \n",
       "1589  923879231175630848  How long will heat, wildfire threat persist in...   \n",
       "\n",
       "      text_info  \n",
       "0             1  \n",
       "1             1  \n",
       "2             1  \n",
       "3             1  \n",
       "4             1  \n",
       "...         ...  \n",
       "1585          1  \n",
       "1586          1  \n",
       "1587          0  \n",
       "1588          1  \n",
       "1589          0  \n",
       "\n",
       "[1588 rows x 3 columns]"
      ]
     },
     "execution_count": 47,
     "metadata": {},
     "output_type": "execute_result"
    }
   ],
   "source": [
    "data"
   ]
  },
  {
   "cell_type": "code",
   "execution_count": 39,
   "metadata": {},
   "outputs": [],
   "source": [
    "outputs = []"
   ]
  },
  {
   "cell_type": "code",
   "execution_count": 42,
   "metadata": {},
   "outputs": [
    {
     "name": "stderr",
     "output_type": "stream",
     "text": [
      "/Users/samael/DataDrive/Academics/PE/mlenv/lib/python3.11/site-packages/sklearn/cluster/_kmeans.py:870: FutureWarning: The default value of `n_init` will change from 10 to 'auto' in 1.4. Set the value of `n_init` explicitly to suppress the warning\n",
      "  warnings.warn(\n"
     ]
    }
   ],
   "source": [
    "for model in clustering_models:\n",
    "    outputs.append(model.fit_predict(X))"
   ]
  },
  {
   "cell_type": "code",
   "execution_count": 45,
   "metadata": {},
   "outputs": [
    {
     "data": {
      "text/html": [
       "<div>\n",
       "<style scoped>\n",
       "    .dataframe tbody tr th:only-of-type {\n",
       "        vertical-align: middle;\n",
       "    }\n",
       "\n",
       "    .dataframe tbody tr th {\n",
       "        vertical-align: top;\n",
       "    }\n",
       "\n",
       "    .dataframe thead th {\n",
       "        text-align: right;\n",
       "    }\n",
       "</style>\n",
       "<table border=\"1\" class=\"dataframe\">\n",
       "  <thead>\n",
       "    <tr style=\"text-align: right;\">\n",
       "      <th></th>\n",
       "      <th>cluster</th>\n",
       "    </tr>\n",
       "  </thead>\n",
       "  <tbody>\n",
       "    <tr>\n",
       "      <th>0</th>\n",
       "      <td>1</td>\n",
       "    </tr>\n",
       "    <tr>\n",
       "      <th>1</th>\n",
       "      <td>1</td>\n",
       "    </tr>\n",
       "    <tr>\n",
       "      <th>2</th>\n",
       "      <td>2</td>\n",
       "    </tr>\n",
       "    <tr>\n",
       "      <th>3</th>\n",
       "      <td>2</td>\n",
       "    </tr>\n",
       "    <tr>\n",
       "      <th>4</th>\n",
       "      <td>1</td>\n",
       "    </tr>\n",
       "    <tr>\n",
       "      <th>...</th>\n",
       "      <td>...</td>\n",
       "    </tr>\n",
       "    <tr>\n",
       "      <th>1583</th>\n",
       "      <td>1</td>\n",
       "    </tr>\n",
       "    <tr>\n",
       "      <th>1584</th>\n",
       "      <td>3</td>\n",
       "    </tr>\n",
       "    <tr>\n",
       "      <th>1585</th>\n",
       "      <td>3</td>\n",
       "    </tr>\n",
       "    <tr>\n",
       "      <th>1586</th>\n",
       "      <td>1</td>\n",
       "    </tr>\n",
       "    <tr>\n",
       "      <th>1587</th>\n",
       "      <td>2</td>\n",
       "    </tr>\n",
       "  </tbody>\n",
       "</table>\n",
       "<p>1588 rows × 1 columns</p>\n",
       "</div>"
      ],
      "text/plain": [
       "      cluster\n",
       "0           1\n",
       "1           1\n",
       "2           2\n",
       "3           2\n",
       "4           1\n",
       "...       ...\n",
       "1583        1\n",
       "1584        3\n",
       "1585        3\n",
       "1586        1\n",
       "1587        2\n",
       "\n",
       "[1588 rows x 1 columns]"
      ]
     },
     "execution_count": 45,
     "metadata": {},
     "output_type": "execute_result"
    }
   ],
   "source": [
    "pd.DataFrame(outputs[0], columns=['cluster'])"
   ]
  },
  {
   "cell_type": "code",
   "execution_count": 82,
   "metadata": {},
   "outputs": [
    {
     "name": "stdout",
     "output_type": "stream",
     "text": [
      "0 not corresponding to 0 0.6259445843828715\n",
      "0 corresponding to 0 0.37405541561712846\n",
      "0 not corresponding to 0 0.809823677581864\n",
      "0 corresponding to 0 0.190176322418136\n",
      "0 not corresponding to 0 0.8123425692695214\n",
      "0 corresponding to 0 0.18765743073047858\n",
      "0 not corresponding to 0 0.7865239294710328\n",
      "0 corresponding to 0 0.21347607052896725\n"
     ]
    }
   ],
   "source": [
    "for output in outputs:\n",
    "    output_df = pd.DataFrame(output, columns=['cluster'])\n",
    "    new_data = data\n",
    "    new_data = new_data.join(output_df)\n",
    "    # print(new_data[new_data[\"text_info\"]==new_data[\"cluster\"]])\n",
    "    matched = new_data[new_data[\"text_info\"]==new_data[\"cluster\"]]\n",
    "    unmatched = new_data[new_data[\"text_info\"]!=new_data[\"cluster\"]]\n",
    "    print(\"0 not corresponding to 0\", unmatched.shape[0]/data.shape[0])\n",
    "    print(\"0 corresponding to 0\", matched.shape[0]/data.shape[0])"
   ]
  },
  {
   "cell_type": "code",
   "execution_count": null,
   "metadata": {},
   "outputs": [],
   "source": []
  }
 ],
 "metadata": {
  "kernelspec": {
   "display_name": "Python 3",
   "language": "python",
   "name": "python3"
  },
  "language_info": {
   "codemirror_mode": {
    "name": "ipython",
    "version": 3
   },
   "file_extension": ".py",
   "mimetype": "text/x-python",
   "name": "python",
   "nbconvert_exporter": "python",
   "pygments_lexer": "ipython3",
   "version": "3.11.2"
  },
  "orig_nbformat": 4,
  "vscode": {
   "interpreter": {
    "hash": "916dbcbb3f70747c44a77c7bcd40155683ae19c65e1c03b4aa3499c5328201f1"
   }
  }
 },
 "nbformat": 4,
 "nbformat_minor": 2
}
