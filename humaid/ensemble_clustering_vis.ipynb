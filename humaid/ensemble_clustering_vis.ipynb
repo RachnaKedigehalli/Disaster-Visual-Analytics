{
 "cells": [
  {
   "cell_type": "code",
   "execution_count": 1,
   "metadata": {},
   "outputs": [],
   "source": [
    "import pandas as pd\n",
    "from sklearn.model_selection import train_test_split\n",
    "from sklearn.feature_extraction.text import CountVectorizer\n",
    "from sklearn.linear_model import LogisticRegression\n",
    "from sklearn.ensemble import RandomForestClassifier\n",
    "from sklearn.tree import DecisionTreeClassifier\n",
    "from sklearn.svm import SVC\n",
    "from sklearn import metrics\n",
    "from sklearn.ensemble import VotingClassifier\n",
    "import os\n",
    "from sklearn.preprocessing import OneHotEncoder\n"
   ]
  },
  {
   "cell_type": "code",
   "execution_count": 2,
   "metadata": {},
   "outputs": [],
   "source": [
    "directory = \"./data\"\n",
    "data = pd.DataFrame(columns=['tweet_id', 'tweet_text', 'class_label'])"
   ]
  },
  {
   "cell_type": "code",
   "execution_count": 10,
   "metadata": {},
   "outputs": [],
   "source": [
    "for path, subdir, files in os.walk(directory):\n",
    "    if len(files) == 0:\n",
    "        continue\n",
    "    for file in files:\n",
    "        df = pd.read_csv(os.path.join(path, file), sep='\\t')\n",
    "        data = pd.concat([data, df])\n",
    "    break"
   ]
  },
  {
   "cell_type": "code",
   "execution_count": 11,
   "metadata": {},
   "outputs": [
    {
     "data": {
      "text/html": [
       "<div>\n",
       "<style scoped>\n",
       "    .dataframe tbody tr th:only-of-type {\n",
       "        vertical-align: middle;\n",
       "    }\n",
       "\n",
       "    .dataframe tbody tr th {\n",
       "        vertical-align: top;\n",
       "    }\n",
       "\n",
       "    .dataframe thead th {\n",
       "        text-align: right;\n",
       "    }\n",
       "</style>\n",
       "<table border=\"1\" class=\"dataframe\">\n",
       "  <thead>\n",
       "    <tr style=\"text-align: right;\">\n",
       "      <th></th>\n",
       "      <th>tweet_id</th>\n",
       "      <th>tweet_text</th>\n",
       "      <th>class_label</th>\n",
       "    </tr>\n",
       "  </thead>\n",
       "  <tbody>\n",
       "    <tr>\n",
       "      <th>0</th>\n",
       "      <td>798262465234542592</td>\n",
       "      <td>RT @MissEarth: New Zealand need our prayers af...</td>\n",
       "      <td>sympathy_and_support</td>\n",
       "    </tr>\n",
       "    <tr>\n",
       "      <th>1</th>\n",
       "      <td>771464543796985856</td>\n",
       "      <td>@johnaglass65 @gordonluke Ah, woke up to a nig...</td>\n",
       "      <td>caution_and_advice</td>\n",
       "    </tr>\n",
       "    <tr>\n",
       "      <th>2</th>\n",
       "      <td>797835622471733248</td>\n",
       "      <td>RT @terremotocentro: #eqnz if you need a tool ...</td>\n",
       "      <td>requests_or_urgent_needs</td>\n",
       "    </tr>\n",
       "    <tr>\n",
       "      <th>3</th>\n",
       "      <td>798021801540321280</td>\n",
       "      <td>RT @BarristerNZ: My son (4) has drawn a pictur...</td>\n",
       "      <td>other_relevant_information</td>\n",
       "    </tr>\n",
       "    <tr>\n",
       "      <th>4</th>\n",
       "      <td>798727277794033664</td>\n",
       "      <td>Due to earthquake damage our Defence Force is ...</td>\n",
       "      <td>infrastructure_and_utility_damage</td>\n",
       "    </tr>\n",
       "  </tbody>\n",
       "</table>\n",
       "</div>"
      ],
      "text/plain": [
       "             tweet_id                                         tweet_text  \\\n",
       "0  798262465234542592  RT @MissEarth: New Zealand need our prayers af...   \n",
       "1  771464543796985856  @johnaglass65 @gordonluke Ah, woke up to a nig...   \n",
       "2  797835622471733248  RT @terremotocentro: #eqnz if you need a tool ...   \n",
       "3  798021801540321280  RT @BarristerNZ: My son (4) has drawn a pictur...   \n",
       "4  798727277794033664  Due to earthquake damage our Defence Force is ...   \n",
       "\n",
       "                         class_label  \n",
       "0               sympathy_and_support  \n",
       "1                 caution_and_advice  \n",
       "2           requests_or_urgent_needs  \n",
       "3         other_relevant_information  \n",
       "4  infrastructure_and_utility_damage  "
      ]
     },
     "execution_count": 11,
     "metadata": {},
     "output_type": "execute_result"
    }
   ],
   "source": [
    "\n",
    "data.head()"
   ]
  },
  {
   "cell_type": "code",
   "execution_count": 12,
   "metadata": {},
   "outputs": [],
   "source": [
    "data = data.dropna(axis=0)"
   ]
  },
  {
   "cell_type": "code",
   "execution_count": null,
   "metadata": {},
   "outputs": [],
   "source": []
  },
  {
   "cell_type": "code",
   "execution_count": 13,
   "metadata": {},
   "outputs": [
    {
     "data": {
      "text/html": [
       "<div>\n",
       "<style scoped>\n",
       "    .dataframe tbody tr th:only-of-type {\n",
       "        vertical-align: middle;\n",
       "    }\n",
       "\n",
       "    .dataframe tbody tr th {\n",
       "        vertical-align: top;\n",
       "    }\n",
       "\n",
       "    .dataframe thead th {\n",
       "        text-align: right;\n",
       "    }\n",
       "</style>\n",
       "<table border=\"1\" class=\"dataframe\">\n",
       "  <thead>\n",
       "    <tr style=\"text-align: right;\">\n",
       "      <th></th>\n",
       "      <th>tweet_id</th>\n",
       "      <th>tweet_text</th>\n",
       "      <th>class_label</th>\n",
       "    </tr>\n",
       "  </thead>\n",
       "  <tbody>\n",
       "    <tr>\n",
       "      <th>0</th>\n",
       "      <td>798262465234542592</td>\n",
       "      <td>RT @MissEarth: New Zealand need our prayers af...</td>\n",
       "      <td>sympathy_and_support</td>\n",
       "    </tr>\n",
       "    <tr>\n",
       "      <th>1</th>\n",
       "      <td>771464543796985856</td>\n",
       "      <td>@johnaglass65 @gordonluke Ah, woke up to a nig...</td>\n",
       "      <td>caution_and_advice</td>\n",
       "    </tr>\n",
       "    <tr>\n",
       "      <th>2</th>\n",
       "      <td>797835622471733248</td>\n",
       "      <td>RT @terremotocentro: #eqnz if you need a tool ...</td>\n",
       "      <td>requests_or_urgent_needs</td>\n",
       "    </tr>\n",
       "    <tr>\n",
       "      <th>3</th>\n",
       "      <td>798021801540321280</td>\n",
       "      <td>RT @BarristerNZ: My son (4) has drawn a pictur...</td>\n",
       "      <td>other_relevant_information</td>\n",
       "    </tr>\n",
       "    <tr>\n",
       "      <th>4</th>\n",
       "      <td>798727277794033664</td>\n",
       "      <td>Due to earthquake damage our Defence Force is ...</td>\n",
       "      <td>infrastructure_and_utility_damage</td>\n",
       "    </tr>\n",
       "  </tbody>\n",
       "</table>\n",
       "</div>"
      ],
      "text/plain": [
       "             tweet_id                                         tweet_text  \\\n",
       "0  798262465234542592  RT @MissEarth: New Zealand need our prayers af...   \n",
       "1  771464543796985856  @johnaglass65 @gordonluke Ah, woke up to a nig...   \n",
       "2  797835622471733248  RT @terremotocentro: #eqnz if you need a tool ...   \n",
       "3  798021801540321280  RT @BarristerNZ: My son (4) has drawn a pictur...   \n",
       "4  798727277794033664  Due to earthquake damage our Defence Force is ...   \n",
       "\n",
       "                         class_label  \n",
       "0               sympathy_and_support  \n",
       "1                 caution_and_advice  \n",
       "2           requests_or_urgent_needs  \n",
       "3         other_relevant_information  \n",
       "4  infrastructure_and_utility_damage  "
      ]
     },
     "execution_count": 13,
     "metadata": {},
     "output_type": "execute_result"
    }
   ],
   "source": [
    "data.head()"
   ]
  },
  {
   "cell_type": "code",
   "execution_count": 14,
   "metadata": {},
   "outputs": [],
   "source": [
    "vectorizer = CountVectorizer()"
   ]
  },
  {
   "cell_type": "code",
   "execution_count": 15,
   "metadata": {},
   "outputs": [],
   "source": [
    "X = vectorizer.fit_transform(data['tweet_text']).toarray()"
   ]
  },
  {
   "cell_type": "code",
   "execution_count": 16,
   "metadata": {},
   "outputs": [
    {
     "data": {
      "text/plain": [
       "array([[0, 0, 0, ..., 0, 0, 0],\n",
       "       [0, 0, 0, ..., 0, 0, 0],\n",
       "       [0, 0, 0, ..., 0, 0, 0],\n",
       "       ...,\n",
       "       [0, 0, 0, ..., 0, 0, 0],\n",
       "       [0, 0, 0, ..., 0, 0, 0],\n",
       "       [0, 0, 0, ..., 0, 0, 0]])"
      ]
     },
     "execution_count": 16,
     "metadata": {},
     "output_type": "execute_result"
    }
   ],
   "source": [
    "X"
   ]
  },
  {
   "cell_type": "code",
   "execution_count": 17,
   "metadata": {},
   "outputs": [],
   "source": [
    "from scipy.spatial.distance import cdist\n",
    "import numpy as np\n",
    "\n",
    "class ClusterSimilarityMatrix():\n",
    "    \n",
    "    def __init__(self) -> None:\n",
    "        self._is_fitted = False\n",
    "\n",
    "    def fit(self, y_clusters):\n",
    "        if not self._is_fitted:\n",
    "            self._is_fitted = True\n",
    "            self.similarity = self.to_binary_matrix(y_clusters)\n",
    "            return self\n",
    "\n",
    "        self.similarity += self.to_binary_matrix(y_clusters)\n",
    "\n",
    "    def to_binary_matrix(self, y_clusters):\n",
    "        y_reshaped = np.expand_dims(y_clusters, axis=-1)\n",
    "        return (cdist(y_reshaped, y_reshaped, 'cityblock')==0).astype(int)\n",
    "\n",
    "\n",
    "class EnsembleCustering():\n",
    "    def __init__(self, base_estimators, aggregator, distances=False):\n",
    "        self.base_estimators = base_estimators\n",
    "        self.aggregator = aggregator\n",
    "        self.distances = distances\n",
    "\n",
    "    def fit(self, X):\n",
    "        X_ = X.copy()\n",
    "\n",
    "        clt_sim_matrix = ClusterSimilarityMatrix()\n",
    "        for model in self.base_estimators:\n",
    "            clt_sim_matrix.fit(model.fit_predict(X=X_))\n",
    "        \n",
    "        sim_matrix = clt_sim_matrix.similarity\n",
    "        self.cluster_matrix = sim_matrix/sim_matrix.diagonal()\n",
    "\n",
    "        if self.distances:\n",
    "            self.cluster_matrix = np.abs(np.log(self.cluster_matrix + 1e-8)) # Avoid log(0)\n",
    "\n",
    "    def fit_predict(self, X):\n",
    "        self.fit(X)\n",
    "        y = self.aggregator.fit_predict(self.cluster_matrix)\n",
    "        return y"
   ]
  },
  {
   "cell_type": "code",
   "execution_count": 18,
   "metadata": {},
   "outputs": [],
   "source": [
    "clustering_models = []"
   ]
  },
  {
   "cell_type": "code",
   "execution_count": 19,
   "metadata": {},
   "outputs": [],
   "source": [
    "from sklearn.cluster import KMeans\n",
    "from sklearn.cluster import Birch\n",
    "from sklearn.cluster import AgglomerativeClustering\n",
    "from sklearn.cluster import MeanShift\n",
    "from sklearn.cluster import SpectralClustering"
   ]
  },
  {
   "cell_type": "code",
   "execution_count": 20,
   "metadata": {},
   "outputs": [],
   "source": [
    "num_clusters = len(data['class_label'].unique())"
   ]
  },
  {
   "cell_type": "code",
   "execution_count": 21,
   "metadata": {},
   "outputs": [],
   "source": [
    "clustering_models.append(KMeans(n_clusters=num_clusters))"
   ]
  },
  {
   "cell_type": "code",
   "execution_count": 22,
   "metadata": {},
   "outputs": [],
   "source": [
    "clustering_models.append(Birch(n_clusters=num_clusters))"
   ]
  },
  {
   "cell_type": "code",
   "execution_count": 23,
   "metadata": {},
   "outputs": [],
   "source": [
    "clustering_models.append(AgglomerativeClustering(n_clusters=num_clusters))"
   ]
  },
  {
   "cell_type": "code",
   "execution_count": 24,
   "metadata": {},
   "outputs": [],
   "source": [
    "# clustering_models.append(MeanShift())"
   ]
  },
  {
   "cell_type": "code",
   "execution_count": 25,
   "metadata": {},
   "outputs": [],
   "source": [
    "aggregator_clt = SpectralClustering(n_clusters=num_clusters, affinity=\"precomputed\")"
   ]
  },
  {
   "cell_type": "code",
   "execution_count": 26,
   "metadata": {},
   "outputs": [],
   "source": [
    "ens_clt=EnsembleCustering(clustering_models, aggregator_clt)"
   ]
  },
  {
   "cell_type": "code",
   "execution_count": 27,
   "metadata": {},
   "outputs": [
    {
     "name": "stderr",
     "output_type": "stream",
     "text": [
      "/Users/samael/DataDrive/Academics/PE/mlenv/lib/python3.11/site-packages/sklearn/cluster/_kmeans.py:870: FutureWarning: The default value of `n_init` will change from 10 to 'auto' in 1.4. Set the value of `n_init` explicitly to suppress the warning\n",
      "  warnings.warn(\n"
     ]
    }
   ],
   "source": [
    "y_ensemble = ens_clt.fit_predict(X)"
   ]
  },
  {
   "cell_type": "code",
   "execution_count": 28,
   "metadata": {},
   "outputs": [
    {
     "data": {
      "text/plain": [
       "(2195,)"
      ]
     },
     "execution_count": 28,
     "metadata": {},
     "output_type": "execute_result"
    }
   ],
   "source": [
    "y_ensemble.shape"
   ]
  },
  {
   "cell_type": "code",
   "execution_count": 22,
   "metadata": {},
   "outputs": [],
   "source": [
    "# data['ensemble'] = y_ensemble"
   ]
  },
  {
   "cell_type": "code",
   "execution_count": 29,
   "metadata": {},
   "outputs": [
    {
     "data": {
      "text/html": [
       "<div>\n",
       "<style scoped>\n",
       "    .dataframe tbody tr th:only-of-type {\n",
       "        vertical-align: middle;\n",
       "    }\n",
       "\n",
       "    .dataframe tbody tr th {\n",
       "        vertical-align: top;\n",
       "    }\n",
       "\n",
       "    .dataframe thead th {\n",
       "        text-align: right;\n",
       "    }\n",
       "</style>\n",
       "<table border=\"1\" class=\"dataframe\">\n",
       "  <thead>\n",
       "    <tr style=\"text-align: right;\">\n",
       "      <th></th>\n",
       "      <th>tweet_id</th>\n",
       "      <th>tweet_text</th>\n",
       "      <th>class_label</th>\n",
       "    </tr>\n",
       "  </thead>\n",
       "  <tbody>\n",
       "    <tr>\n",
       "      <th>0</th>\n",
       "      <td>798262465234542592</td>\n",
       "      <td>RT @MissEarth: New Zealand need our prayers af...</td>\n",
       "      <td>sympathy_and_support</td>\n",
       "    </tr>\n",
       "    <tr>\n",
       "      <th>1</th>\n",
       "      <td>771464543796985856</td>\n",
       "      <td>@johnaglass65 @gordonluke Ah, woke up to a nig...</td>\n",
       "      <td>caution_and_advice</td>\n",
       "    </tr>\n",
       "    <tr>\n",
       "      <th>2</th>\n",
       "      <td>797835622471733248</td>\n",
       "      <td>RT @terremotocentro: #eqnz if you need a tool ...</td>\n",
       "      <td>requests_or_urgent_needs</td>\n",
       "    </tr>\n",
       "    <tr>\n",
       "      <th>3</th>\n",
       "      <td>798021801540321280</td>\n",
       "      <td>RT @BarristerNZ: My son (4) has drawn a pictur...</td>\n",
       "      <td>other_relevant_information</td>\n",
       "    </tr>\n",
       "    <tr>\n",
       "      <th>4</th>\n",
       "      <td>798727277794033664</td>\n",
       "      <td>Due to earthquake damage our Defence Force is ...</td>\n",
       "      <td>infrastructure_and_utility_damage</td>\n",
       "    </tr>\n",
       "    <tr>\n",
       "      <th>...</th>\n",
       "      <td>...</td>\n",
       "      <td>...</td>\n",
       "      <td>...</td>\n",
       "    </tr>\n",
       "    <tr>\n",
       "      <th>430</th>\n",
       "      <td>797862022595497988</td>\n",
       "      <td>What a night that was. Thankfully no damage to...</td>\n",
       "      <td>other_relevant_information</td>\n",
       "    </tr>\n",
       "    <tr>\n",
       "      <th>431</th>\n",
       "      <td>798425325923401728</td>\n",
       "      <td>@We3forDemocracy This is since Extreme M7.5 ea...</td>\n",
       "      <td>caution_and_advice</td>\n",
       "    </tr>\n",
       "    <tr>\n",
       "      <th>432</th>\n",
       "      <td>797808377191600128</td>\n",
       "      <td>RT @caity_petersonn: UPDATE: Hanmer Springs -h...</td>\n",
       "      <td>infrastructure_and_utility_damage</td>\n",
       "    </tr>\n",
       "    <tr>\n",
       "      <th>433</th>\n",
       "      <td>797961196364124160</td>\n",
       "      <td>RT @Halcyon_Knights: Our thoughts go out to th...</td>\n",
       "      <td>sympathy_and_support</td>\n",
       "    </tr>\n",
       "    <tr>\n",
       "      <th>434</th>\n",
       "      <td>797818362256453632</td>\n",
       "      <td>Can I just say: these are difficult maps when ...</td>\n",
       "      <td>not_humanitarian</td>\n",
       "    </tr>\n",
       "  </tbody>\n",
       "</table>\n",
       "<p>2195 rows × 3 columns</p>\n",
       "</div>"
      ],
      "text/plain": [
       "               tweet_id                                         tweet_text  \\\n",
       "0    798262465234542592  RT @MissEarth: New Zealand need our prayers af...   \n",
       "1    771464543796985856  @johnaglass65 @gordonluke Ah, woke up to a nig...   \n",
       "2    797835622471733248  RT @terremotocentro: #eqnz if you need a tool ...   \n",
       "3    798021801540321280  RT @BarristerNZ: My son (4) has drawn a pictur...   \n",
       "4    798727277794033664  Due to earthquake damage our Defence Force is ...   \n",
       "..                  ...                                                ...   \n",
       "430  797862022595497988  What a night that was. Thankfully no damage to...   \n",
       "431  798425325923401728  @We3forDemocracy This is since Extreme M7.5 ea...   \n",
       "432  797808377191600128  RT @caity_petersonn: UPDATE: Hanmer Springs -h...   \n",
       "433  797961196364124160  RT @Halcyon_Knights: Our thoughts go out to th...   \n",
       "434  797818362256453632  Can I just say: these are difficult maps when ...   \n",
       "\n",
       "                           class_label  \n",
       "0                 sympathy_and_support  \n",
       "1                   caution_and_advice  \n",
       "2             requests_or_urgent_needs  \n",
       "3           other_relevant_information  \n",
       "4    infrastructure_and_utility_damage  \n",
       "..                                 ...  \n",
       "430         other_relevant_information  \n",
       "431                 caution_and_advice  \n",
       "432  infrastructure_and_utility_damage  \n",
       "433               sympathy_and_support  \n",
       "434                   not_humanitarian  \n",
       "\n",
       "[2195 rows x 3 columns]"
      ]
     },
     "execution_count": 29,
     "metadata": {},
     "output_type": "execute_result"
    }
   ],
   "source": [
    "data"
   ]
  },
  {
   "cell_type": "code",
   "execution_count": 30,
   "metadata": {},
   "outputs": [],
   "source": [
    "# np.unique(y_ensemble, return_counts=True)"
   ]
  },
  {
   "cell_type": "code",
   "execution_count": 31,
   "metadata": {},
   "outputs": [
    {
     "data": {
      "text/plain": [
       "array([5, 7, 1, ..., 1, 3, 1], dtype=int32)"
      ]
     },
     "execution_count": 31,
     "metadata": {},
     "output_type": "execute_result"
    }
   ],
   "source": [
    "y_ensemble"
   ]
  },
  {
   "cell_type": "code",
   "execution_count": 37,
   "metadata": {},
   "outputs": [
    {
     "data": {
      "text/plain": [
       "(array([0, 1, 2, 3, 4, 5, 6, 7, 8], dtype=int32),\n",
       " array([ 168, 1069,  110,  100,   76,  386,  101,  118,   67]))"
      ]
     },
     "execution_count": 37,
     "metadata": {},
     "output_type": "execute_result"
    }
   ],
   "source": [
    "# clustering_models.append(ens_clt)\n",
    "np.unique(y_ensemble, return_counts=True)"
   ]
  },
  {
   "cell_type": "code",
   "execution_count": 40,
   "metadata": {},
   "outputs": [
    {
     "data": {
      "text/plain": [
       "caution_and_advice                        493\n",
       "sympathy_and_support                      432\n",
       "infrastructure_and_utility_damage         312\n",
       "other_relevant_information                311\n",
       "not_humanitarian                          224\n",
       "rescue_volunteering_or_donation_effort    207\n",
       "injured_or_dead_people                    105\n",
       "displaced_people_and_evacuations           87\n",
       "requests_or_urgent_needs                   24\n",
       "Name: class_label, dtype: int64"
      ]
     },
     "execution_count": 40,
     "metadata": {},
     "output_type": "execute_result"
    }
   ],
   "source": [
    "data['class_label'].value_counts()"
   ]
  },
  {
   "attachments": {},
   "cell_type": "markdown",
   "metadata": {},
   "source": [
    "## Vis"
   ]
  },
  {
   "cell_type": "code",
   "execution_count": 38,
   "metadata": {},
   "outputs": [
    {
     "data": {
      "text/html": [
       "<div>\n",
       "<style scoped>\n",
       "    .dataframe tbody tr th:only-of-type {\n",
       "        vertical-align: middle;\n",
       "    }\n",
       "\n",
       "    .dataframe tbody tr th {\n",
       "        vertical-align: top;\n",
       "    }\n",
       "\n",
       "    .dataframe thead th {\n",
       "        text-align: right;\n",
       "    }\n",
       "</style>\n",
       "<table border=\"1\" class=\"dataframe\">\n",
       "  <thead>\n",
       "    <tr style=\"text-align: right;\">\n",
       "      <th></th>\n",
       "      <th>tweet_id</th>\n",
       "      <th>tweet_text</th>\n",
       "      <th>class_label</th>\n",
       "    </tr>\n",
       "  </thead>\n",
       "  <tbody>\n",
       "    <tr>\n",
       "      <th>0</th>\n",
       "      <td>798262465234542592</td>\n",
       "      <td>RT @MissEarth: New Zealand need our prayers af...</td>\n",
       "      <td>sympathy_and_support</td>\n",
       "    </tr>\n",
       "    <tr>\n",
       "      <th>1</th>\n",
       "      <td>771464543796985856</td>\n",
       "      <td>@johnaglass65 @gordonluke Ah, woke up to a nig...</td>\n",
       "      <td>caution_and_advice</td>\n",
       "    </tr>\n",
       "    <tr>\n",
       "      <th>2</th>\n",
       "      <td>797835622471733248</td>\n",
       "      <td>RT @terremotocentro: #eqnz if you need a tool ...</td>\n",
       "      <td>requests_or_urgent_needs</td>\n",
       "    </tr>\n",
       "    <tr>\n",
       "      <th>3</th>\n",
       "      <td>798021801540321280</td>\n",
       "      <td>RT @BarristerNZ: My son (4) has drawn a pictur...</td>\n",
       "      <td>other_relevant_information</td>\n",
       "    </tr>\n",
       "    <tr>\n",
       "      <th>4</th>\n",
       "      <td>798727277794033664</td>\n",
       "      <td>Due to earthquake damage our Defence Force is ...</td>\n",
       "      <td>infrastructure_and_utility_damage</td>\n",
       "    </tr>\n",
       "    <tr>\n",
       "      <th>...</th>\n",
       "      <td>...</td>\n",
       "      <td>...</td>\n",
       "      <td>...</td>\n",
       "    </tr>\n",
       "    <tr>\n",
       "      <th>430</th>\n",
       "      <td>797862022595497988</td>\n",
       "      <td>What a night that was. Thankfully no damage to...</td>\n",
       "      <td>other_relevant_information</td>\n",
       "    </tr>\n",
       "    <tr>\n",
       "      <th>431</th>\n",
       "      <td>798425325923401728</td>\n",
       "      <td>@We3forDemocracy This is since Extreme M7.5 ea...</td>\n",
       "      <td>caution_and_advice</td>\n",
       "    </tr>\n",
       "    <tr>\n",
       "      <th>432</th>\n",
       "      <td>797808377191600128</td>\n",
       "      <td>RT @caity_petersonn: UPDATE: Hanmer Springs -h...</td>\n",
       "      <td>infrastructure_and_utility_damage</td>\n",
       "    </tr>\n",
       "    <tr>\n",
       "      <th>433</th>\n",
       "      <td>797961196364124160</td>\n",
       "      <td>RT @Halcyon_Knights: Our thoughts go out to th...</td>\n",
       "      <td>sympathy_and_support</td>\n",
       "    </tr>\n",
       "    <tr>\n",
       "      <th>434</th>\n",
       "      <td>797818362256453632</td>\n",
       "      <td>Can I just say: these are difficult maps when ...</td>\n",
       "      <td>not_humanitarian</td>\n",
       "    </tr>\n",
       "  </tbody>\n",
       "</table>\n",
       "<p>2195 rows × 3 columns</p>\n",
       "</div>"
      ],
      "text/plain": [
       "               tweet_id                                         tweet_text  \\\n",
       "0    798262465234542592  RT @MissEarth: New Zealand need our prayers af...   \n",
       "1    771464543796985856  @johnaglass65 @gordonluke Ah, woke up to a nig...   \n",
       "2    797835622471733248  RT @terremotocentro: #eqnz if you need a tool ...   \n",
       "3    798021801540321280  RT @BarristerNZ: My son (4) has drawn a pictur...   \n",
       "4    798727277794033664  Due to earthquake damage our Defence Force is ...   \n",
       "..                  ...                                                ...   \n",
       "430  797862022595497988  What a night that was. Thankfully no damage to...   \n",
       "431  798425325923401728  @We3forDemocracy This is since Extreme M7.5 ea...   \n",
       "432  797808377191600128  RT @caity_petersonn: UPDATE: Hanmer Springs -h...   \n",
       "433  797961196364124160  RT @Halcyon_Knights: Our thoughts go out to th...   \n",
       "434  797818362256453632  Can I just say: these are difficult maps when ...   \n",
       "\n",
       "                           class_label  \n",
       "0                 sympathy_and_support  \n",
       "1                   caution_and_advice  \n",
       "2             requests_or_urgent_needs  \n",
       "3           other_relevant_information  \n",
       "4    infrastructure_and_utility_damage  \n",
       "..                                 ...  \n",
       "430         other_relevant_information  \n",
       "431                 caution_and_advice  \n",
       "432  infrastructure_and_utility_damage  \n",
       "433               sympathy_and_support  \n",
       "434                   not_humanitarian  \n",
       "\n",
       "[2195 rows x 3 columns]"
      ]
     },
     "execution_count": 38,
     "metadata": {},
     "output_type": "execute_result"
    }
   ],
   "source": [
    "data"
   ]
  },
  {
   "cell_type": "code",
   "execution_count": 32,
   "metadata": {},
   "outputs": [
    {
     "name": "stdout",
     "output_type": "stream",
     "text": [
      "KMeans(n_clusters=2)\n"
     ]
    },
    {
     "name": "stderr",
     "output_type": "stream",
     "text": [
      "/home/rachna/.local/lib/python3.8/site-packages/sklearn/cluster/_kmeans.py:870: FutureWarning: The default value of `n_init` will change from 10 to 'auto' in 1.4. Set the value of `n_init` explicitly to suppress the warning\n",
      "  warnings.warn(\n"
     ]
    },
    {
     "name": "stdout",
     "output_type": "stream",
     "text": [
      "0 corresponding to 0 0.6788413098236776\n",
      "0 not corresponding to 0 0.3211586901763224\n",
      "Birch(n_clusters=2)\n",
      "0 corresponding to 0 0.3211586901763224\n",
      "0 not corresponding to 0 0.6788413098236776\n",
      "AgglomerativeClustering()\n",
      "0 corresponding to 0 0.31801007556675065\n",
      "0 not corresponding to 0 0.6819899244332494\n"
     ]
    }
   ],
   "source": [
    "for i in range(len(clustering_models)):\n",
    "    column_name = str(clustering_models[i])\n",
    "    print(column_name)\n",
    "    output_df = pd.DataFrame(clustering_models[i].fit_predict(X), columns=[column_name])\n",
    "    # print(output_df[column_name].value_counts())\n",
    "    data = data.join(output_df)\n",
    "    matched = data[data[\"text_info\"]==data[column_name]]\n",
    "    unmatched = data[data[\"text_info\"]!=data[column_name]]\n",
    "    print(\"Matching\", matched.shape[0]/data.shape[0])\n",
    "    match_percentage = matched.shape[0]/data.shape[0]\n",
    "    print(\"Unmatched\", unmatched.shape[0]/data.shape[0])\n",
    "    unmatch_percentage = unmatched.shape[0]/data.shape[0]\n",
    "    if unmatch_percentage > match_percentage:\n",
    "        data[column_name] = data[column_name].apply(lambda x: 1 if x==0 else 0)"
   ]
  },
  {
   "cell_type": "code",
   "execution_count": 35,
   "metadata": {},
   "outputs": [
    {
     "data": {
      "text/html": [
       "<div>\n",
       "<style scoped>\n",
       "    .dataframe tbody tr th:only-of-type {\n",
       "        vertical-align: middle;\n",
       "    }\n",
       "\n",
       "    .dataframe tbody tr th {\n",
       "        vertical-align: top;\n",
       "    }\n",
       "\n",
       "    .dataframe thead th {\n",
       "        text-align: right;\n",
       "    }\n",
       "</style>\n",
       "<table border=\"1\" class=\"dataframe\">\n",
       "  <thead>\n",
       "    <tr style=\"text-align: right;\">\n",
       "      <th></th>\n",
       "      <th>tweet_id</th>\n",
       "      <th>tweet_text</th>\n",
       "      <th>text_info</th>\n",
       "      <th>KMeans(n_clusters=2)</th>\n",
       "      <th>Birch(n_clusters=2)</th>\n",
       "      <th>AgglomerativeClustering()</th>\n",
       "      <th>ensemble</th>\n",
       "    </tr>\n",
       "  </thead>\n",
       "  <tbody>\n",
       "    <tr>\n",
       "      <th>0</th>\n",
       "      <td>917791130590183424</td>\n",
       "      <td>PHOTOS: Deadly wildfires rage in California ht...</td>\n",
       "      <td>1</td>\n",
       "      <td>1.0</td>\n",
       "      <td>1</td>\n",
       "      <td>1</td>\n",
       "      <td>0</td>\n",
       "    </tr>\n",
       "    <tr>\n",
       "      <th>1</th>\n",
       "      <td>917791044158185473</td>\n",
       "      <td>RT @Gizmodo: Wildfires raging through Northern...</td>\n",
       "      <td>1</td>\n",
       "      <td>1.0</td>\n",
       "      <td>1</td>\n",
       "      <td>1</td>\n",
       "      <td>0</td>\n",
       "    </tr>\n",
       "    <tr>\n",
       "      <th>2</th>\n",
       "      <td>917791291823591425</td>\n",
       "      <td>RT @Cal_OES: PLS SHARE: We’re capturing wildfi...</td>\n",
       "      <td>1</td>\n",
       "      <td>1.0</td>\n",
       "      <td>1</td>\n",
       "      <td>1</td>\n",
       "      <td>0</td>\n",
       "    </tr>\n",
       "    <tr>\n",
       "      <th>3</th>\n",
       "      <td>917791291823591425</td>\n",
       "      <td>RT @Cal_OES: PLS SHARE: We’re capturing wildfi...</td>\n",
       "      <td>1</td>\n",
       "      <td>1.0</td>\n",
       "      <td>1</td>\n",
       "      <td>1</td>\n",
       "      <td>0</td>\n",
       "    </tr>\n",
       "    <tr>\n",
       "      <th>4</th>\n",
       "      <td>917792092100988929</td>\n",
       "      <td>RT @TIME: California's raging wildfires as you...</td>\n",
       "      <td>1</td>\n",
       "      <td>1.0</td>\n",
       "      <td>1</td>\n",
       "      <td>1</td>\n",
       "      <td>0</td>\n",
       "    </tr>\n",
       "  </tbody>\n",
       "</table>\n",
       "</div>"
      ],
      "text/plain": [
       "             tweet_id                                         tweet_text  \\\n",
       "0  917791130590183424  PHOTOS: Deadly wildfires rage in California ht...   \n",
       "1  917791044158185473  RT @Gizmodo: Wildfires raging through Northern...   \n",
       "2  917791291823591425  RT @Cal_OES: PLS SHARE: We’re capturing wildfi...   \n",
       "3  917791291823591425  RT @Cal_OES: PLS SHARE: We’re capturing wildfi...   \n",
       "4  917792092100988929  RT @TIME: California's raging wildfires as you...   \n",
       "\n",
       "   text_info  KMeans(n_clusters=2)  Birch(n_clusters=2)  \\\n",
       "0          1                   1.0                    1   \n",
       "1          1                   1.0                    1   \n",
       "2          1                   1.0                    1   \n",
       "3          1                   1.0                    1   \n",
       "4          1                   1.0                    1   \n",
       "\n",
       "   AgglomerativeClustering()  ensemble  \n",
       "0                          1         0  \n",
       "1                          1         0  \n",
       "2                          1         0  \n",
       "3                          1         0  \n",
       "4                          1         0  "
      ]
     },
     "execution_count": 35,
     "metadata": {},
     "output_type": "execute_result"
    }
   ],
   "source": [
    "data['ensemble'] = y_ensemble\n",
    "data.head()"
   ]
  },
  {
   "cell_type": "code",
   "execution_count": 36,
   "metadata": {},
   "outputs": [
    {
     "name": "stdout",
     "output_type": "stream",
     "text": [
      "0 corresponding to 0 0.2795969773299748\n",
      "0 not corresponding to 0 0.7204030226700252\n"
     ]
    }
   ],
   "source": [
    "matched = data[data[\"text_info\"]==data['ensemble']]\n",
    "unmatched = data[data[\"text_info\"]!=data['ensemble']]\n",
    "print(\"0 corresponding to 0\", matched.shape[0]/data.shape[0])\n",
    "match_percentage = matched.shape[0]/data.shape[0]\n",
    "print(\"0 not corresponding to 0\", unmatched.shape[0]/data.shape[0])\n",
    "unmatch_percentage = unmatched.shape[0]/data.shape[0]\n",
    "if unmatch_percentage > match_percentage:\n",
    "    data['ensemble'] = data['ensemble'].apply(lambda x: 1 if x==0 else 0)"
   ]
  },
  {
   "cell_type": "code",
   "execution_count": 37,
   "metadata": {},
   "outputs": [
    {
     "data": {
      "text/html": [
       "<div>\n",
       "<style scoped>\n",
       "    .dataframe tbody tr th:only-of-type {\n",
       "        vertical-align: middle;\n",
       "    }\n",
       "\n",
       "    .dataframe tbody tr th {\n",
       "        vertical-align: top;\n",
       "    }\n",
       "\n",
       "    .dataframe thead th {\n",
       "        text-align: right;\n",
       "    }\n",
       "</style>\n",
       "<table border=\"1\" class=\"dataframe\">\n",
       "  <thead>\n",
       "    <tr style=\"text-align: right;\">\n",
       "      <th></th>\n",
       "      <th>tweet_id</th>\n",
       "      <th>tweet_text</th>\n",
       "      <th>text_info</th>\n",
       "      <th>KMeans(n_clusters=2)</th>\n",
       "      <th>Birch(n_clusters=2)</th>\n",
       "      <th>AgglomerativeClustering()</th>\n",
       "      <th>ensemble</th>\n",
       "    </tr>\n",
       "  </thead>\n",
       "  <tbody>\n",
       "    <tr>\n",
       "      <th>0</th>\n",
       "      <td>917791130590183424</td>\n",
       "      <td>PHOTOS: Deadly wildfires rage in California ht...</td>\n",
       "      <td>1</td>\n",
       "      <td>1.0</td>\n",
       "      <td>1</td>\n",
       "      <td>1</td>\n",
       "      <td>1</td>\n",
       "    </tr>\n",
       "    <tr>\n",
       "      <th>1</th>\n",
       "      <td>917791044158185473</td>\n",
       "      <td>RT @Gizmodo: Wildfires raging through Northern...</td>\n",
       "      <td>1</td>\n",
       "      <td>1.0</td>\n",
       "      <td>1</td>\n",
       "      <td>1</td>\n",
       "      <td>1</td>\n",
       "    </tr>\n",
       "    <tr>\n",
       "      <th>2</th>\n",
       "      <td>917791291823591425</td>\n",
       "      <td>RT @Cal_OES: PLS SHARE: We’re capturing wildfi...</td>\n",
       "      <td>1</td>\n",
       "      <td>1.0</td>\n",
       "      <td>1</td>\n",
       "      <td>1</td>\n",
       "      <td>1</td>\n",
       "    </tr>\n",
       "    <tr>\n",
       "      <th>3</th>\n",
       "      <td>917791291823591425</td>\n",
       "      <td>RT @Cal_OES: PLS SHARE: We’re capturing wildfi...</td>\n",
       "      <td>1</td>\n",
       "      <td>1.0</td>\n",
       "      <td>1</td>\n",
       "      <td>1</td>\n",
       "      <td>1</td>\n",
       "    </tr>\n",
       "    <tr>\n",
       "      <th>4</th>\n",
       "      <td>917792092100988929</td>\n",
       "      <td>RT @TIME: California's raging wildfires as you...</td>\n",
       "      <td>1</td>\n",
       "      <td>1.0</td>\n",
       "      <td>1</td>\n",
       "      <td>1</td>\n",
       "      <td>1</td>\n",
       "    </tr>\n",
       "    <tr>\n",
       "      <th>...</th>\n",
       "      <td>...</td>\n",
       "      <td>...</td>\n",
       "      <td>...</td>\n",
       "      <td>...</td>\n",
       "      <td>...</td>\n",
       "      <td>...</td>\n",
       "      <td>...</td>\n",
       "    </tr>\n",
       "    <tr>\n",
       "      <th>1585</th>\n",
       "      <td>923761170967797761</td>\n",
       "      <td>GOP targets environmental rules after Californ...</td>\n",
       "      <td>1</td>\n",
       "      <td>1.0</td>\n",
       "      <td>1</td>\n",
       "      <td>1</td>\n",
       "      <td>1</td>\n",
       "    </tr>\n",
       "    <tr>\n",
       "      <th>1586</th>\n",
       "      <td>923796193670336512</td>\n",
       "      <td>Motorcycle crash sparked 350-acre fire in Clev...</td>\n",
       "      <td>1</td>\n",
       "      <td>1.0</td>\n",
       "      <td>1</td>\n",
       "      <td>1</td>\n",
       "      <td>1</td>\n",
       "    </tr>\n",
       "    <tr>\n",
       "      <th>1587</th>\n",
       "      <td>923821955568013313</td>\n",
       "      <td>Carl’s Jr. #SantaRosa catches #Fire while maki...</td>\n",
       "      <td>0</td>\n",
       "      <td>1.0</td>\n",
       "      <td>1</td>\n",
       "      <td>1</td>\n",
       "      <td>1</td>\n",
       "    </tr>\n",
       "    <tr>\n",
       "      <th>1588</th>\n",
       "      <td>923844053426348032</td>\n",
       "      <td>Inside the List: The Romance Writer Who Almost...</td>\n",
       "      <td>1</td>\n",
       "      <td>NaN</td>\n",
       "      <td>0</td>\n",
       "      <td>0</td>\n",
       "      <td>1</td>\n",
       "    </tr>\n",
       "    <tr>\n",
       "      <th>1589</th>\n",
       "      <td>923879231175630848</td>\n",
       "      <td>How long will heat, wildfire threat persist in...</td>\n",
       "      <td>0</td>\n",
       "      <td>NaN</td>\n",
       "      <td>0</td>\n",
       "      <td>0</td>\n",
       "      <td>1</td>\n",
       "    </tr>\n",
       "  </tbody>\n",
       "</table>\n",
       "<p>1588 rows × 7 columns</p>\n",
       "</div>"
      ],
      "text/plain": [
       "                tweet_id                                         tweet_text  \\\n",
       "0     917791130590183424  PHOTOS: Deadly wildfires rage in California ht...   \n",
       "1     917791044158185473  RT @Gizmodo: Wildfires raging through Northern...   \n",
       "2     917791291823591425  RT @Cal_OES: PLS SHARE: We’re capturing wildfi...   \n",
       "3     917791291823591425  RT @Cal_OES: PLS SHARE: We’re capturing wildfi...   \n",
       "4     917792092100988929  RT @TIME: California's raging wildfires as you...   \n",
       "...                  ...                                                ...   \n",
       "1585  923761170967797761  GOP targets environmental rules after Californ...   \n",
       "1586  923796193670336512  Motorcycle crash sparked 350-acre fire in Clev...   \n",
       "1587  923821955568013313  Carl’s Jr. #SantaRosa catches #Fire while maki...   \n",
       "1588  923844053426348032  Inside the List: The Romance Writer Who Almost...   \n",
       "1589  923879231175630848  How long will heat, wildfire threat persist in...   \n",
       "\n",
       "      text_info  KMeans(n_clusters=2)  Birch(n_clusters=2)  \\\n",
       "0             1                   1.0                    1   \n",
       "1             1                   1.0                    1   \n",
       "2             1                   1.0                    1   \n",
       "3             1                   1.0                    1   \n",
       "4             1                   1.0                    1   \n",
       "...         ...                   ...                  ...   \n",
       "1585          1                   1.0                    1   \n",
       "1586          1                   1.0                    1   \n",
       "1587          0                   1.0                    1   \n",
       "1588          1                   NaN                    0   \n",
       "1589          0                   NaN                    0   \n",
       "\n",
       "      AgglomerativeClustering()  ensemble  \n",
       "0                             1         1  \n",
       "1                             1         1  \n",
       "2                             1         1  \n",
       "3                             1         1  \n",
       "4                             1         1  \n",
       "...                         ...       ...  \n",
       "1585                          1         1  \n",
       "1586                          1         1  \n",
       "1587                          1         1  \n",
       "1588                          0         1  \n",
       "1589                          0         1  \n",
       "\n",
       "[1588 rows x 7 columns]"
      ]
     },
     "execution_count": 37,
     "metadata": {},
     "output_type": "execute_result"
    }
   ],
   "source": [
    "data"
   ]
  },
  {
   "cell_type": "code",
   "execution_count": 39,
   "metadata": {},
   "outputs": [],
   "source": [
    "data.to_csv(\"model_clustering_data.csv\")"
   ]
  },
  {
   "cell_type": "code",
   "execution_count": null,
   "metadata": {},
   "outputs": [],
   "source": [
    "# outputs = []"
   ]
  },
  {
   "cell_type": "code",
   "execution_count": null,
   "metadata": {},
   "outputs": [],
   "source": [
    "# for model in clustering_models:\n",
    "#     outputs.append(model.fit_predict(X))"
   ]
  },
  {
   "cell_type": "code",
   "execution_count": null,
   "metadata": {},
   "outputs": [],
   "source": [
    "# output_df = pd.DataFrame(outputs[2], columns=['cluster'])\n",
    "# new_data = data\n",
    "# new_data = new_data.join(output_df)"
   ]
  },
  {
   "cell_type": "code",
   "execution_count": null,
   "metadata": {},
   "outputs": [],
   "source": [
    "# for output in outputs:\n",
    "#     output_df = pd.DataFrame(output, columns=['cluster'])\n",
    "#     new_data = data\n",
    "#     new_data = new_data.join(output_df)\n",
    "#     # print(new_data[new_data[\"text_info\"]==new_data[\"cluster\"]])\n",
    "#     matched = new_data[new_data[\"text_info\"]==new_data[\"cluster\"]]\n",
    "#     unmatched = new_data[new_data[\"text_info\"]!=new_data[\"cluster\"]]\n",
    "#     print(\"0 corresponding to 0\", matched.shape[0]/data.shape[0])\n",
    "#     match_percentage = matched.shape[0]/data.shape[0]\n",
    "#     print(\"0 not corresponding to 0\", unmatched.shape[0]/data.shape[0])\n",
    "#     unmatch_percentage = unmatched.shape[0]/data.shape[0]\n",
    "#     if unmatch_percentage > match_percentage:\n",
    "#         new_data['cluster'] = new_data[\"cluster\"].apply(lambda x: 1 if x==0 else 0)"
   ]
  },
  {
   "cell_type": "code",
   "execution_count": null,
   "metadata": {},
   "outputs": [],
   "source": []
  }
 ],
 "metadata": {
  "kernelspec": {
   "display_name": "Python 3",
   "language": "python",
   "name": "python3"
  },
  "language_info": {
   "codemirror_mode": {
    "name": "ipython",
    "version": 3
   },
   "file_extension": ".py",
   "mimetype": "text/x-python",
   "name": "python",
   "nbconvert_exporter": "python",
   "pygments_lexer": "ipython3",
   "version": "3.11.3"
  },
  "orig_nbformat": 4,
  "vscode": {
   "interpreter": {
    "hash": "916dbcbb3f70747c44a77c7bcd40155683ae19c65e1c03b4aa3499c5328201f1"
   }
  }
 },
 "nbformat": 4,
 "nbformat_minor": 2
}
